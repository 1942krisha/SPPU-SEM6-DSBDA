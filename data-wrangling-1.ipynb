{
 "cells": [
  {
   "cell_type": "code",
   "execution_count": 1,
   "id": "79300193",
   "metadata": {},
   "outputs": [],
   "source": [
    "import numpy as np\n",
    "import pandas as pd"
   ]
  },
  {
   "cell_type": "code",
   "execution_count": 2,
   "id": "014dbe8d",
   "metadata": {},
   "outputs": [
    {
     "name": "stderr",
     "output_type": "stream",
     "text": [
      "C:\\Users\\2419a\\AppData\\Local\\Temp\\ipykernel_11332\\2585039687.py:1: DtypeWarning: Columns (3,4,5,6,12) have mixed types. Specify dtype option on import or set low_memory=False.\n",
      "  df = pd.read_csv(\"Salaries.csv\")\n"
     ]
    },
    {
     "data": {
      "text/html": [
       "<div>\n",
       "<style scoped>\n",
       "    .dataframe tbody tr th:only-of-type {\n",
       "        vertical-align: middle;\n",
       "    }\n",
       "\n",
       "    .dataframe tbody tr th {\n",
       "        vertical-align: top;\n",
       "    }\n",
       "\n",
       "    .dataframe thead th {\n",
       "        text-align: right;\n",
       "    }\n",
       "</style>\n",
       "<table border=\"1\" class=\"dataframe\">\n",
       "  <thead>\n",
       "    <tr style=\"text-align: right;\">\n",
       "      <th></th>\n",
       "      <th>Id</th>\n",
       "      <th>EmployeeName</th>\n",
       "      <th>JobTitle</th>\n",
       "      <th>BasePay</th>\n",
       "      <th>OvertimePay</th>\n",
       "      <th>OtherPay</th>\n",
       "      <th>Benefits</th>\n",
       "      <th>TotalPay</th>\n",
       "      <th>TotalPayBenefits</th>\n",
       "      <th>Year</th>\n",
       "      <th>Notes</th>\n",
       "      <th>Agency</th>\n",
       "      <th>Status</th>\n",
       "    </tr>\n",
       "  </thead>\n",
       "  <tbody>\n",
       "    <tr>\n",
       "      <th>0</th>\n",
       "      <td>1</td>\n",
       "      <td>NATHANIEL FORD</td>\n",
       "      <td>GENERAL MANAGER-METROPOLITAN TRANSIT AUTHORITY</td>\n",
       "      <td>167411.18</td>\n",
       "      <td>0.0</td>\n",
       "      <td>400184.25</td>\n",
       "      <td>NaN</td>\n",
       "      <td>567595.43</td>\n",
       "      <td>567595.43</td>\n",
       "      <td>2011</td>\n",
       "      <td>NaN</td>\n",
       "      <td>San Francisco</td>\n",
       "      <td>NaN</td>\n",
       "    </tr>\n",
       "    <tr>\n",
       "      <th>1</th>\n",
       "      <td>2</td>\n",
       "      <td>GARY JIMENEZ</td>\n",
       "      <td>CAPTAIN III (POLICE DEPARTMENT)</td>\n",
       "      <td>155966.02</td>\n",
       "      <td>245131.88</td>\n",
       "      <td>137811.38</td>\n",
       "      <td>NaN</td>\n",
       "      <td>538909.28</td>\n",
       "      <td>538909.28</td>\n",
       "      <td>2011</td>\n",
       "      <td>NaN</td>\n",
       "      <td>San Francisco</td>\n",
       "      <td>NaN</td>\n",
       "    </tr>\n",
       "  </tbody>\n",
       "</table>\n",
       "</div>"
      ],
      "text/plain": [
       "   Id    EmployeeName                                        JobTitle  \\\n",
       "0   1  NATHANIEL FORD  GENERAL MANAGER-METROPOLITAN TRANSIT AUTHORITY   \n",
       "1   2    GARY JIMENEZ                 CAPTAIN III (POLICE DEPARTMENT)   \n",
       "\n",
       "     BasePay OvertimePay   OtherPay Benefits   TotalPay  TotalPayBenefits  \\\n",
       "0  167411.18         0.0  400184.25      NaN  567595.43         567595.43   \n",
       "1  155966.02   245131.88  137811.38      NaN  538909.28         538909.28   \n",
       "\n",
       "   Year  Notes         Agency Status  \n",
       "0  2011    NaN  San Francisco    NaN  \n",
       "1  2011    NaN  San Francisco    NaN  "
      ]
     },
     "execution_count": 2,
     "metadata": {},
     "output_type": "execute_result"
    }
   ],
   "source": [
    "df = pd.read_csv(\"Salaries.csv\")\n",
    "df.head(2)"
   ]
  },
  {
   "cell_type": "code",
   "execution_count": 3,
   "id": "7d1c183a",
   "metadata": {},
   "outputs": [
    {
     "name": "stdout",
     "output_type": "stream",
     "text": [
      "<class 'pandas.core.frame.DataFrame'>\n",
      "RangeIndex: 148654 entries, 0 to 148653\n",
      "Data columns (total 13 columns):\n",
      " #   Column            Non-Null Count   Dtype  \n",
      "---  ------            --------------   -----  \n",
      " 0   Id                148654 non-null  int64  \n",
      " 1   EmployeeName      148654 non-null  object \n",
      " 2   JobTitle          148654 non-null  object \n",
      " 3   BasePay           148049 non-null  object \n",
      " 4   OvertimePay       148654 non-null  object \n",
      " 5   OtherPay          148654 non-null  object \n",
      " 6   Benefits          112495 non-null  object \n",
      " 7   TotalPay          148654 non-null  float64\n",
      " 8   TotalPayBenefits  148654 non-null  float64\n",
      " 9   Year              148654 non-null  int64  \n",
      " 10  Notes             0 non-null       float64\n",
      " 11  Agency            148654 non-null  object \n",
      " 12  Status            38119 non-null   object \n",
      "dtypes: float64(3), int64(2), object(8)\n",
      "memory usage: 14.7+ MB\n"
     ]
    }
   ],
   "source": [
    "df.info()"
   ]
  },
  {
   "cell_type": "code",
   "execution_count": 4,
   "id": "44a71488",
   "metadata": {},
   "outputs": [
    {
     "data": {
      "text/plain": [
       "(148654, 13)"
      ]
     },
     "execution_count": 4,
     "metadata": {},
     "output_type": "execute_result"
    }
   ],
   "source": [
    "df.shape"
   ]
  },
  {
   "cell_type": "code",
   "execution_count": 5,
   "id": "0099059e",
   "metadata": {},
   "outputs": [
    {
     "data": {
      "text/html": [
       "<div>\n",
       "<style scoped>\n",
       "    .dataframe tbody tr th:only-of-type {\n",
       "        vertical-align: middle;\n",
       "    }\n",
       "\n",
       "    .dataframe tbody tr th {\n",
       "        vertical-align: top;\n",
       "    }\n",
       "\n",
       "    .dataframe thead th {\n",
       "        text-align: right;\n",
       "    }\n",
       "</style>\n",
       "<table border=\"1\" class=\"dataframe\">\n",
       "  <thead>\n",
       "    <tr style=\"text-align: right;\">\n",
       "      <th></th>\n",
       "      <th>Id</th>\n",
       "      <th>EmployeeName</th>\n",
       "      <th>JobTitle</th>\n",
       "      <th>BasePay</th>\n",
       "      <th>OvertimePay</th>\n",
       "      <th>OtherPay</th>\n",
       "      <th>Benefits</th>\n",
       "      <th>TotalPay</th>\n",
       "      <th>TotalPayBenefits</th>\n",
       "      <th>Year</th>\n",
       "      <th>Notes</th>\n",
       "      <th>Agency</th>\n",
       "      <th>Status</th>\n",
       "    </tr>\n",
       "  </thead>\n",
       "  <tbody>\n",
       "    <tr>\n",
       "      <th>0</th>\n",
       "      <td>False</td>\n",
       "      <td>False</td>\n",
       "      <td>False</td>\n",
       "      <td>False</td>\n",
       "      <td>False</td>\n",
       "      <td>False</td>\n",
       "      <td>True</td>\n",
       "      <td>False</td>\n",
       "      <td>False</td>\n",
       "      <td>False</td>\n",
       "      <td>True</td>\n",
       "      <td>False</td>\n",
       "      <td>True</td>\n",
       "    </tr>\n",
       "    <tr>\n",
       "      <th>1</th>\n",
       "      <td>False</td>\n",
       "      <td>False</td>\n",
       "      <td>False</td>\n",
       "      <td>False</td>\n",
       "      <td>False</td>\n",
       "      <td>False</td>\n",
       "      <td>True</td>\n",
       "      <td>False</td>\n",
       "      <td>False</td>\n",
       "      <td>False</td>\n",
       "      <td>True</td>\n",
       "      <td>False</td>\n",
       "      <td>True</td>\n",
       "    </tr>\n",
       "    <tr>\n",
       "      <th>2</th>\n",
       "      <td>False</td>\n",
       "      <td>False</td>\n",
       "      <td>False</td>\n",
       "      <td>False</td>\n",
       "      <td>False</td>\n",
       "      <td>False</td>\n",
       "      <td>True</td>\n",
       "      <td>False</td>\n",
       "      <td>False</td>\n",
       "      <td>False</td>\n",
       "      <td>True</td>\n",
       "      <td>False</td>\n",
       "      <td>True</td>\n",
       "    </tr>\n",
       "    <tr>\n",
       "      <th>3</th>\n",
       "      <td>False</td>\n",
       "      <td>False</td>\n",
       "      <td>False</td>\n",
       "      <td>False</td>\n",
       "      <td>False</td>\n",
       "      <td>False</td>\n",
       "      <td>True</td>\n",
       "      <td>False</td>\n",
       "      <td>False</td>\n",
       "      <td>False</td>\n",
       "      <td>True</td>\n",
       "      <td>False</td>\n",
       "      <td>True</td>\n",
       "    </tr>\n",
       "    <tr>\n",
       "      <th>4</th>\n",
       "      <td>False</td>\n",
       "      <td>False</td>\n",
       "      <td>False</td>\n",
       "      <td>False</td>\n",
       "      <td>False</td>\n",
       "      <td>False</td>\n",
       "      <td>True</td>\n",
       "      <td>False</td>\n",
       "      <td>False</td>\n",
       "      <td>False</td>\n",
       "      <td>True</td>\n",
       "      <td>False</td>\n",
       "      <td>True</td>\n",
       "    </tr>\n",
       "    <tr>\n",
       "      <th>...</th>\n",
       "      <td>...</td>\n",
       "      <td>...</td>\n",
       "      <td>...</td>\n",
       "      <td>...</td>\n",
       "      <td>...</td>\n",
       "      <td>...</td>\n",
       "      <td>...</td>\n",
       "      <td>...</td>\n",
       "      <td>...</td>\n",
       "      <td>...</td>\n",
       "      <td>...</td>\n",
       "      <td>...</td>\n",
       "      <td>...</td>\n",
       "    </tr>\n",
       "    <tr>\n",
       "      <th>148649</th>\n",
       "      <td>False</td>\n",
       "      <td>False</td>\n",
       "      <td>False</td>\n",
       "      <td>False</td>\n",
       "      <td>False</td>\n",
       "      <td>False</td>\n",
       "      <td>False</td>\n",
       "      <td>False</td>\n",
       "      <td>False</td>\n",
       "      <td>False</td>\n",
       "      <td>True</td>\n",
       "      <td>False</td>\n",
       "      <td>False</td>\n",
       "    </tr>\n",
       "    <tr>\n",
       "      <th>148650</th>\n",
       "      <td>False</td>\n",
       "      <td>False</td>\n",
       "      <td>False</td>\n",
       "      <td>False</td>\n",
       "      <td>False</td>\n",
       "      <td>False</td>\n",
       "      <td>False</td>\n",
       "      <td>False</td>\n",
       "      <td>False</td>\n",
       "      <td>False</td>\n",
       "      <td>True</td>\n",
       "      <td>False</td>\n",
       "      <td>True</td>\n",
       "    </tr>\n",
       "    <tr>\n",
       "      <th>148651</th>\n",
       "      <td>False</td>\n",
       "      <td>False</td>\n",
       "      <td>False</td>\n",
       "      <td>False</td>\n",
       "      <td>False</td>\n",
       "      <td>False</td>\n",
       "      <td>False</td>\n",
       "      <td>False</td>\n",
       "      <td>False</td>\n",
       "      <td>False</td>\n",
       "      <td>True</td>\n",
       "      <td>False</td>\n",
       "      <td>True</td>\n",
       "    </tr>\n",
       "    <tr>\n",
       "      <th>148652</th>\n",
       "      <td>False</td>\n",
       "      <td>False</td>\n",
       "      <td>False</td>\n",
       "      <td>False</td>\n",
       "      <td>False</td>\n",
       "      <td>False</td>\n",
       "      <td>False</td>\n",
       "      <td>False</td>\n",
       "      <td>False</td>\n",
       "      <td>False</td>\n",
       "      <td>True</td>\n",
       "      <td>False</td>\n",
       "      <td>True</td>\n",
       "    </tr>\n",
       "    <tr>\n",
       "      <th>148653</th>\n",
       "      <td>False</td>\n",
       "      <td>False</td>\n",
       "      <td>False</td>\n",
       "      <td>False</td>\n",
       "      <td>False</td>\n",
       "      <td>False</td>\n",
       "      <td>False</td>\n",
       "      <td>False</td>\n",
       "      <td>False</td>\n",
       "      <td>False</td>\n",
       "      <td>True</td>\n",
       "      <td>False</td>\n",
       "      <td>False</td>\n",
       "    </tr>\n",
       "  </tbody>\n",
       "</table>\n",
       "<p>148654 rows × 13 columns</p>\n",
       "</div>"
      ],
      "text/plain": [
       "           Id  EmployeeName  JobTitle  BasePay  OvertimePay  OtherPay  \\\n",
       "0       False         False     False    False        False     False   \n",
       "1       False         False     False    False        False     False   \n",
       "2       False         False     False    False        False     False   \n",
       "3       False         False     False    False        False     False   \n",
       "4       False         False     False    False        False     False   \n",
       "...       ...           ...       ...      ...          ...       ...   \n",
       "148649  False         False     False    False        False     False   \n",
       "148650  False         False     False    False        False     False   \n",
       "148651  False         False     False    False        False     False   \n",
       "148652  False         False     False    False        False     False   \n",
       "148653  False         False     False    False        False     False   \n",
       "\n",
       "        Benefits  TotalPay  TotalPayBenefits   Year  Notes  Agency  Status  \n",
       "0           True     False             False  False   True   False    True  \n",
       "1           True     False             False  False   True   False    True  \n",
       "2           True     False             False  False   True   False    True  \n",
       "3           True     False             False  False   True   False    True  \n",
       "4           True     False             False  False   True   False    True  \n",
       "...          ...       ...               ...    ...    ...     ...     ...  \n",
       "148649     False     False             False  False   True   False   False  \n",
       "148650     False     False             False  False   True   False    True  \n",
       "148651     False     False             False  False   True   False    True  \n",
       "148652     False     False             False  False   True   False    True  \n",
       "148653     False     False             False  False   True   False   False  \n",
       "\n",
       "[148654 rows x 13 columns]"
      ]
     },
     "execution_count": 5,
     "metadata": {},
     "output_type": "execute_result"
    }
   ],
   "source": [
    "df.isnull()"
   ]
  },
  {
   "cell_type": "code",
   "execution_count": 6,
   "id": "68be074f",
   "metadata": {},
   "outputs": [
    {
     "data": {
      "text/plain": [
       "Id                       0\n",
       "EmployeeName             0\n",
       "JobTitle                 0\n",
       "BasePay                605\n",
       "OvertimePay              0\n",
       "OtherPay                 0\n",
       "Benefits             36159\n",
       "TotalPay                 0\n",
       "TotalPayBenefits         0\n",
       "Year                     0\n",
       "Notes               148654\n",
       "Agency                   0\n",
       "Status              110535\n",
       "dtype: int64"
      ]
     },
     "execution_count": 6,
     "metadata": {},
     "output_type": "execute_result"
    }
   ],
   "source": [
    "df.isnull().sum()"
   ]
  },
  {
   "cell_type": "code",
   "execution_count": 7,
   "id": "c53d082c",
   "metadata": {},
   "outputs": [
    {
     "data": {
      "text/plain": [
       "Id                    int64\n",
       "EmployeeName         object\n",
       "JobTitle             object\n",
       "BasePay              object\n",
       "OvertimePay          object\n",
       "OtherPay             object\n",
       "Benefits             object\n",
       "TotalPay            float64\n",
       "TotalPayBenefits    float64\n",
       "Year                  int64\n",
       "Notes               float64\n",
       "Agency               object\n",
       "Status               object\n",
       "dtype: object"
      ]
     },
     "execution_count": 7,
     "metadata": {},
     "output_type": "execute_result"
    }
   ],
   "source": [
    "df.dtypes"
   ]
  },
  {
   "cell_type": "code",
   "execution_count": 8,
   "id": "88eeac92",
   "metadata": {},
   "outputs": [
    {
     "data": {
      "text/plain": [
       "array([167411.18, 155966.02, 212739.13, ..., '6.04', '15.50',\n",
       "       'Not Provided'], dtype=object)"
      ]
     },
     "execution_count": 8,
     "metadata": {},
     "output_type": "execute_result"
    }
   ],
   "source": [
    "df[\"BasePay\"].unique()"
   ]
  },
  {
   "cell_type": "code",
   "execution_count": 9,
   "id": "7d160592",
   "metadata": {},
   "outputs": [
    {
     "data": {
      "text/plain": [
       "array([167411.18, 155966.02, 212739.13, ..., '17.26', '6.04', '15.50'],\n",
       "      dtype=object)"
      ]
     },
     "execution_count": 9,
     "metadata": {},
     "output_type": "execute_result"
    }
   ],
   "source": [
    "df[\"BasePay\"] = df[\"BasePay\"].replace(\"Not Provided\", np.nan)\n",
    "df[\"BasePay\"].unique()"
   ]
  },
  {
   "cell_type": "code",
   "execution_count": 10,
   "id": "2d2a6d3b",
   "metadata": {},
   "outputs": [
    {
     "data": {
      "text/plain": [
       "array([1.6741118e+05, 1.5596602e+05, 2.1273913e+05, ..., 1.7260000e+01,\n",
       "       6.0400000e+00, 1.5500000e+01])"
      ]
     },
     "execution_count": 10,
     "metadata": {},
     "output_type": "execute_result"
    }
   ],
   "source": [
    "df[\"BasePay\"] = df[\"BasePay\"].astype(float)\n",
    "df[\"BasePay\"].dtypes\n",
    "df[\"BasePay\"].unique()"
   ]
  },
  {
   "cell_type": "code",
   "execution_count": 11,
   "id": "5dabdf43",
   "metadata": {},
   "outputs": [
    {
     "data": {
      "text/plain": [
       "65007.45"
      ]
     },
     "execution_count": 11,
     "metadata": {},
     "output_type": "execute_result"
    }
   ],
   "source": [
    "med = df[\"BasePay\"].median()\n",
    "med"
   ]
  },
  {
   "cell_type": "code",
   "execution_count": 12,
   "id": "6c74e9b3",
   "metadata": {},
   "outputs": [
    {
     "data": {
      "text/plain": [
       "array([1.6741118e+05, 1.5596602e+05, 2.1273913e+05, ..., 1.7260000e+01,\n",
       "       6.0400000e+00, 1.5500000e+01])"
      ]
     },
     "execution_count": 12,
     "metadata": {},
     "output_type": "execute_result"
    }
   ],
   "source": [
    "df[\"BasePay\"] = df[\"BasePay\"].replace(np.nan, med)\n",
    "df[\"BasePay\"].unique()"
   ]
  },
  {
   "cell_type": "code",
   "execution_count": 13,
   "id": "a558a0a1",
   "metadata": {},
   "outputs": [
    {
     "data": {
      "text/plain": [
       "array(['San Francisco'], dtype=object)"
      ]
     },
     "execution_count": 13,
     "metadata": {},
     "output_type": "execute_result"
    }
   ],
   "source": [
    "df[\"Agency\"].unique()"
   ]
  },
  {
   "cell_type": "code",
   "execution_count": 14,
   "id": "dc2e9654",
   "metadata": {},
   "outputs": [
    {
     "data": {
      "text/plain": [
       "dtype('S13')"
      ]
     },
     "execution_count": 14,
     "metadata": {},
     "output_type": "execute_result"
    }
   ],
   "source": [
    "df[\"Agency\"] = df[\"Agency\"].astype(\"|S\")\n",
    "df[\"Agency\"].dtypes"
   ]
  },
  {
   "cell_type": "code",
   "execution_count": 15,
   "id": "e2f5fbd2",
   "metadata": {},
   "outputs": [
    {
     "data": {
      "text/plain": [
       "Id                       0\n",
       "EmployeeName             0\n",
       "JobTitle                 0\n",
       "BasePay                  0\n",
       "OvertimePay              0\n",
       "OtherPay                 0\n",
       "Benefits             36159\n",
       "TotalPay                 0\n",
       "TotalPayBenefits         0\n",
       "Year                     0\n",
       "Notes               148654\n",
       "Agency                   0\n",
       "Status              110535\n",
       "dtype: int64"
      ]
     },
     "execution_count": 15,
     "metadata": {},
     "output_type": "execute_result"
    }
   ],
   "source": [
    "df.isnull().sum()"
   ]
  },
  {
   "cell_type": "code",
   "execution_count": 16,
   "id": "efb3a1db",
   "metadata": {},
   "outputs": [
    {
     "data": {
      "text/plain": [
       "Id                       0\n",
       "EmployeeName             0\n",
       "JobTitle                 0\n",
       "BasePay                  0\n",
       "OvertimePay              0\n",
       "OtherPay                 0\n",
       "Benefits                 0\n",
       "TotalPay                 0\n",
       "TotalPayBenefits         0\n",
       "Year                     0\n",
       "Notes               148654\n",
       "Agency                   0\n",
       "Status              110535\n",
       "dtype: int64"
      ]
     },
     "execution_count": 16,
     "metadata": {},
     "output_type": "execute_result"
    }
   ],
   "source": [
    "df[\"Benefits\"] = df[\"Benefits\"].fillna(df[\"Benefits\"].median)\n",
    "df.isna().sum()"
   ]
  },
  {
   "cell_type": "code",
   "execution_count": 17,
   "id": "9f13f1ca",
   "metadata": {},
   "outputs": [
    {
     "data": {
      "text/plain": [
       "(148654, 13)"
      ]
     },
     "execution_count": 17,
     "metadata": {},
     "output_type": "execute_result"
    }
   ],
   "source": [
    "df.shape"
   ]
  },
  {
   "cell_type": "code",
   "execution_count": 18,
   "id": "f8991691",
   "metadata": {},
   "outputs": [
    {
     "data": {
      "text/plain": [
       "Id                       0\n",
       "EmployeeName             0\n",
       "JobTitle                 0\n",
       "BasePay                  0\n",
       "OvertimePay              0\n",
       "OtherPay                 0\n",
       "Benefits                 0\n",
       "TotalPay                 0\n",
       "TotalPayBenefits         0\n",
       "Year                     0\n",
       "Agency                   0\n",
       "Status              110535\n",
       "dtype: int64"
      ]
     },
     "execution_count": 18,
     "metadata": {},
     "output_type": "execute_result"
    }
   ],
   "source": [
    "df = df.drop(columns=\"Notes\")\n",
    "df.isna().sum()"
   ]
  },
  {
   "cell_type": "code",
   "execution_count": 19,
   "id": "7e813363",
   "metadata": {},
   "outputs": [
    {
     "data": {
      "text/plain": [
       "array([nan, 'PT', 'FT'], dtype=object)"
      ]
     },
     "execution_count": 19,
     "metadata": {},
     "output_type": "execute_result"
    }
   ],
   "source": [
    "df[\"Status\"].unique()"
   ]
  },
  {
   "cell_type": "code",
   "execution_count": 20,
   "id": "c1ff6262",
   "metadata": {},
   "outputs": [
    {
     "data": {
      "text/plain": [
       "Id                  0\n",
       "EmployeeName        0\n",
       "JobTitle            0\n",
       "BasePay             0\n",
       "OvertimePay         0\n",
       "OtherPay            0\n",
       "Benefits            0\n",
       "TotalPay            0\n",
       "TotalPayBenefits    0\n",
       "Year                0\n",
       "Agency              0\n",
       "Status              0\n",
       "dtype: int64"
      ]
     },
     "execution_count": 20,
     "metadata": {},
     "output_type": "execute_result"
    }
   ],
   "source": [
    "df = df.dropna(subset=[\"Status\"])\n",
    "df.isna().sum()"
   ]
  },
  {
   "cell_type": "markdown",
   "id": "f51ac282",
   "metadata": {},
   "source": [
    "### Categorical to Quantitative variables "
   ]
  },
  {
   "cell_type": "code",
   "execution_count": 22,
   "id": "7185204b",
   "metadata": {},
   "outputs": [
    {
     "data": {
      "text/html": [
       "<div>\n",
       "<style scoped>\n",
       "    .dataframe tbody tr th:only-of-type {\n",
       "        vertical-align: middle;\n",
       "    }\n",
       "\n",
       "    .dataframe tbody tr th {\n",
       "        vertical-align: top;\n",
       "    }\n",
       "\n",
       "    .dataframe thead th {\n",
       "        text-align: right;\n",
       "    }\n",
       "</style>\n",
       "<table border=\"1\" class=\"dataframe\">\n",
       "  <thead>\n",
       "    <tr style=\"text-align: right;\">\n",
       "      <th></th>\n",
       "      <th>Id</th>\n",
       "      <th>EmployeeName</th>\n",
       "      <th>JobTitle</th>\n",
       "      <th>BasePay</th>\n",
       "      <th>OvertimePay</th>\n",
       "      <th>OtherPay</th>\n",
       "      <th>Benefits</th>\n",
       "      <th>TotalPay</th>\n",
       "      <th>TotalPayBenefits</th>\n",
       "      <th>Year</th>\n",
       "      <th>Agency</th>\n",
       "      <th>Status</th>\n",
       "    </tr>\n",
       "  </thead>\n",
       "  <tbody>\n",
       "    <tr>\n",
       "      <th>110531</th>\n",
       "      <td>110532</td>\n",
       "      <td>David Shinn</td>\n",
       "      <td>Deputy Chief 3</td>\n",
       "      <td>129150.01</td>\n",
       "      <td>0.0</td>\n",
       "      <td>342802.63</td>\n",
       "      <td>38780.04</td>\n",
       "      <td>471952.64</td>\n",
       "      <td>510732.68</td>\n",
       "      <td>2014</td>\n",
       "      <td>b'San Francisco'</td>\n",
       "      <td>1</td>\n",
       "    </tr>\n",
       "    <tr>\n",
       "      <th>110532</th>\n",
       "      <td>110533</td>\n",
       "      <td>Amy P Hart</td>\n",
       "      <td>Asst Med Examiner</td>\n",
       "      <td>318835.49</td>\n",
       "      <td>10712.95</td>\n",
       "      <td>60563.54</td>\n",
       "      <td>89540.23</td>\n",
       "      <td>390111.98</td>\n",
       "      <td>479652.21</td>\n",
       "      <td>2014</td>\n",
       "      <td>b'San Francisco'</td>\n",
       "      <td>0</td>\n",
       "    </tr>\n",
       "    <tr>\n",
       "      <th>110533</th>\n",
       "      <td>110534</td>\n",
       "      <td>William J Coaker Jr.</td>\n",
       "      <td>Chief Investment Officer</td>\n",
       "      <td>257340.00</td>\n",
       "      <td>0.0</td>\n",
       "      <td>82313.7</td>\n",
       "      <td>96570.66</td>\n",
       "      <td>339653.70</td>\n",
       "      <td>436224.36</td>\n",
       "      <td>2014</td>\n",
       "      <td>b'San Francisco'</td>\n",
       "      <td>1</td>\n",
       "    </tr>\n",
       "  </tbody>\n",
       "</table>\n",
       "</div>"
      ],
      "text/plain": [
       "            Id          EmployeeName                  JobTitle    BasePay  \\\n",
       "110531  110532           David Shinn            Deputy Chief 3  129150.01   \n",
       "110532  110533            Amy P Hart         Asst Med Examiner  318835.49   \n",
       "110533  110534  William J Coaker Jr.  Chief Investment Officer  257340.00   \n",
       "\n",
       "       OvertimePay   OtherPay  Benefits   TotalPay  TotalPayBenefits  Year  \\\n",
       "110531         0.0  342802.63  38780.04  471952.64         510732.68  2014   \n",
       "110532    10712.95   60563.54  89540.23  390111.98         479652.21  2014   \n",
       "110533         0.0    82313.7  96570.66  339653.70         436224.36  2014   \n",
       "\n",
       "                  Agency  Status  \n",
       "110531  b'San Francisco'       1  \n",
       "110532  b'San Francisco'       0  \n",
       "110533  b'San Francisco'       1  "
      ]
     },
     "execution_count": 22,
     "metadata": {},
     "output_type": "execute_result"
    }
   ],
   "source": [
    "from sklearn.preprocessing import LabelEncoder\n",
    "le = LabelEncoder()\n",
    "df[\"Status\"] = le.fit_transform(df[\"Status\"])\n",
    "df.head(3)"
   ]
  },
  {
   "cell_type": "markdown",
   "id": "afbde2a5",
   "metadata": {},
   "source": [
    "### Minmax Normalization"
   ]
  },
  {
   "cell_type": "code",
   "execution_count": 26,
   "id": "a4aa51d2",
   "metadata": {},
   "outputs": [
    {
     "data": {
      "text/html": [
       "<div>\n",
       "<style scoped>\n",
       "    .dataframe tbody tr th:only-of-type {\n",
       "        vertical-align: middle;\n",
       "    }\n",
       "\n",
       "    .dataframe tbody tr th {\n",
       "        vertical-align: top;\n",
       "    }\n",
       "\n",
       "    .dataframe thead th {\n",
       "        text-align: right;\n",
       "    }\n",
       "</style>\n",
       "<table border=\"1\" class=\"dataframe\">\n",
       "  <thead>\n",
       "    <tr style=\"text-align: right;\">\n",
       "      <th></th>\n",
       "      <th>Id</th>\n",
       "      <th>EmployeeName</th>\n",
       "      <th>JobTitle</th>\n",
       "      <th>BasePay</th>\n",
       "      <th>OvertimePay</th>\n",
       "      <th>OtherPay</th>\n",
       "      <th>Benefits</th>\n",
       "      <th>TotalPay</th>\n",
       "      <th>TotalPayBenefits</th>\n",
       "      <th>Year</th>\n",
       "      <th>Agency</th>\n",
       "      <th>Status</th>\n",
       "    </tr>\n",
       "  </thead>\n",
       "  <tbody>\n",
       "    <tr>\n",
       "      <th>110531</th>\n",
       "      <td>110532</td>\n",
       "      <td>David Shinn</td>\n",
       "      <td>Deputy Chief 3</td>\n",
       "      <td>0.405068</td>\n",
       "      <td>0.0</td>\n",
       "      <td>342802.63</td>\n",
       "      <td>38780.04</td>\n",
       "      <td>471952.64</td>\n",
       "      <td>510732.68</td>\n",
       "      <td>2014</td>\n",
       "      <td>b'San Francisco'</td>\n",
       "      <td>1</td>\n",
       "    </tr>\n",
       "    <tr>\n",
       "      <th>110532</th>\n",
       "      <td>110533</td>\n",
       "      <td>Amy P Hart</td>\n",
       "      <td>Asst Med Examiner</td>\n",
       "      <td>1.000000</td>\n",
       "      <td>10712.95</td>\n",
       "      <td>60563.54</td>\n",
       "      <td>89540.23</td>\n",
       "      <td>390111.98</td>\n",
       "      <td>479652.21</td>\n",
       "      <td>2014</td>\n",
       "      <td>b'San Francisco'</td>\n",
       "      <td>0</td>\n",
       "    </tr>\n",
       "    <tr>\n",
       "      <th>110533</th>\n",
       "      <td>110534</td>\n",
       "      <td>William J Coaker Jr.</td>\n",
       "      <td>Chief Investment Officer</td>\n",
       "      <td>0.807125</td>\n",
       "      <td>0.0</td>\n",
       "      <td>82313.7</td>\n",
       "      <td>96570.66</td>\n",
       "      <td>339653.70</td>\n",
       "      <td>436224.36</td>\n",
       "      <td>2014</td>\n",
       "      <td>b'San Francisco'</td>\n",
       "      <td>1</td>\n",
       "    </tr>\n",
       "    <tr>\n",
       "      <th>110534</th>\n",
       "      <td>110535</td>\n",
       "      <td>Gregory P Suhr</td>\n",
       "      <td>Chief of Police</td>\n",
       "      <td>0.964291</td>\n",
       "      <td>0.0</td>\n",
       "      <td>19266.72</td>\n",
       "      <td>91302.46</td>\n",
       "      <td>326716.76</td>\n",
       "      <td>418019.22</td>\n",
       "      <td>2014</td>\n",
       "      <td>b'San Francisco'</td>\n",
       "      <td>0</td>\n",
       "    </tr>\n",
       "    <tr>\n",
       "      <th>110535</th>\n",
       "      <td>110536</td>\n",
       "      <td>Joanne M Hayes-White</td>\n",
       "      <td>Chief, Fire Department</td>\n",
       "      <td>0.947410</td>\n",
       "      <td>0.0</td>\n",
       "      <td>24165.44</td>\n",
       "      <td>91201.66</td>\n",
       "      <td>326233.44</td>\n",
       "      <td>417435.10</td>\n",
       "      <td>2014</td>\n",
       "      <td>b'San Francisco'</td>\n",
       "      <td>0</td>\n",
       "    </tr>\n",
       "  </tbody>\n",
       "</table>\n",
       "</div>"
      ],
      "text/plain": [
       "            Id          EmployeeName                  JobTitle   BasePay  \\\n",
       "110531  110532           David Shinn            Deputy Chief 3  0.405068   \n",
       "110532  110533            Amy P Hart         Asst Med Examiner  1.000000   \n",
       "110533  110534  William J Coaker Jr.  Chief Investment Officer  0.807125   \n",
       "110534  110535        Gregory P Suhr           Chief of Police  0.964291   \n",
       "110535  110536  Joanne M Hayes-White    Chief, Fire Department  0.947410   \n",
       "\n",
       "       OvertimePay   OtherPay  Benefits   TotalPay  TotalPayBenefits  Year  \\\n",
       "110531         0.0  342802.63  38780.04  471952.64         510732.68  2014   \n",
       "110532    10712.95   60563.54  89540.23  390111.98         479652.21  2014   \n",
       "110533         0.0    82313.7  96570.66  339653.70         436224.36  2014   \n",
       "110534         0.0   19266.72  91302.46  326716.76         418019.22  2014   \n",
       "110535         0.0   24165.44  91201.66  326233.44         417435.10  2014   \n",
       "\n",
       "                  Agency  Status  \n",
       "110531  b'San Francisco'       1  \n",
       "110532  b'San Francisco'       0  \n",
       "110533  b'San Francisco'       1  \n",
       "110534  b'San Francisco'       0  \n",
       "110535  b'San Francisco'       0  "
      ]
     },
     "execution_count": 26,
     "metadata": {},
     "output_type": "execute_result"
    }
   ],
   "source": [
    "from sklearn.preprocessing import MinMaxScaler\n",
    "arr = df[\"BasePay\"].values.reshape(-1,1)\n",
    "scaler = MinMaxScaler()\n",
    "arr = scaler.fit_transform(arr)\n",
    "df[\"BasePay\"] = arr\n",
    "df.head(5)"
   ]
  },
  {
   "cell_type": "code",
   "execution_count": 30,
   "id": "92802b77",
   "metadata": {},
   "outputs": [
    {
     "data": {
      "text/html": [
       "<div>\n",
       "<style scoped>\n",
       "    .dataframe tbody tr th:only-of-type {\n",
       "        vertical-align: middle;\n",
       "    }\n",
       "\n",
       "    .dataframe tbody tr th {\n",
       "        vertical-align: top;\n",
       "    }\n",
       "\n",
       "    .dataframe thead th {\n",
       "        text-align: right;\n",
       "    }\n",
       "</style>\n",
       "<table border=\"1\" class=\"dataframe\">\n",
       "  <thead>\n",
       "    <tr style=\"text-align: right;\">\n",
       "      <th></th>\n",
       "      <th>Id</th>\n",
       "      <th>EmployeeName</th>\n",
       "      <th>JobTitle</th>\n",
       "      <th>BasePay</th>\n",
       "      <th>OvertimePay</th>\n",
       "      <th>OtherPay</th>\n",
       "      <th>Benefits</th>\n",
       "      <th>TotalPay</th>\n",
       "      <th>TotalPayBenefits</th>\n",
       "      <th>Year</th>\n",
       "      <th>Agency</th>\n",
       "      <th>Status</th>\n",
       "    </tr>\n",
       "  </thead>\n",
       "  <tbody>\n",
       "    <tr>\n",
       "      <th>110531</th>\n",
       "      <td>110532</td>\n",
       "      <td>David Shinn</td>\n",
       "      <td>Deputy Chief 3</td>\n",
       "      <td>0.405068</td>\n",
       "      <td>0.000000</td>\n",
       "      <td>342802.63</td>\n",
       "      <td>38780.04</td>\n",
       "      <td>471952.64</td>\n",
       "      <td>510732.68</td>\n",
       "      <td>2014</td>\n",
       "      <td>b'San Francisco'</td>\n",
       "      <td>1</td>\n",
       "    </tr>\n",
       "    <tr>\n",
       "      <th>110532</th>\n",
       "      <td>110533</td>\n",
       "      <td>Amy P Hart</td>\n",
       "      <td>Asst Med Examiner</td>\n",
       "      <td>1.000000</td>\n",
       "      <td>0.061729</td>\n",
       "      <td>60563.54</td>\n",
       "      <td>89540.23</td>\n",
       "      <td>390111.98</td>\n",
       "      <td>479652.21</td>\n",
       "      <td>2014</td>\n",
       "      <td>b'San Francisco'</td>\n",
       "      <td>0</td>\n",
       "    </tr>\n",
       "    <tr>\n",
       "      <th>110533</th>\n",
       "      <td>110534</td>\n",
       "      <td>William J Coaker Jr.</td>\n",
       "      <td>Chief Investment Officer</td>\n",
       "      <td>0.807125</td>\n",
       "      <td>0.000000</td>\n",
       "      <td>82313.7</td>\n",
       "      <td>96570.66</td>\n",
       "      <td>339653.70</td>\n",
       "      <td>436224.36</td>\n",
       "      <td>2014</td>\n",
       "      <td>b'San Francisco'</td>\n",
       "      <td>1</td>\n",
       "    </tr>\n",
       "    <tr>\n",
       "      <th>110534</th>\n",
       "      <td>110535</td>\n",
       "      <td>Gregory P Suhr</td>\n",
       "      <td>Chief of Police</td>\n",
       "      <td>0.964291</td>\n",
       "      <td>0.000000</td>\n",
       "      <td>19266.72</td>\n",
       "      <td>91302.46</td>\n",
       "      <td>326716.76</td>\n",
       "      <td>418019.22</td>\n",
       "      <td>2014</td>\n",
       "      <td>b'San Francisco'</td>\n",
       "      <td>0</td>\n",
       "    </tr>\n",
       "    <tr>\n",
       "      <th>110535</th>\n",
       "      <td>110536</td>\n",
       "      <td>Joanne M Hayes-White</td>\n",
       "      <td>Chief, Fire Department</td>\n",
       "      <td>0.947410</td>\n",
       "      <td>0.000000</td>\n",
       "      <td>24165.44</td>\n",
       "      <td>91201.66</td>\n",
       "      <td>326233.44</td>\n",
       "      <td>417435.10</td>\n",
       "      <td>2014</td>\n",
       "      <td>b'San Francisco'</td>\n",
       "      <td>0</td>\n",
       "    </tr>\n",
       "  </tbody>\n",
       "</table>\n",
       "</div>"
      ],
      "text/plain": [
       "            Id          EmployeeName                  JobTitle   BasePay  \\\n",
       "110531  110532           David Shinn            Deputy Chief 3  0.405068   \n",
       "110532  110533            Amy P Hart         Asst Med Examiner  1.000000   \n",
       "110533  110534  William J Coaker Jr.  Chief Investment Officer  0.807125   \n",
       "110534  110535        Gregory P Suhr           Chief of Police  0.964291   \n",
       "110535  110536  Joanne M Hayes-White    Chief, Fire Department  0.947410   \n",
       "\n",
       "        OvertimePay   OtherPay  Benefits   TotalPay  TotalPayBenefits  Year  \\\n",
       "110531     0.000000  342802.63  38780.04  471952.64         510732.68  2014   \n",
       "110532     0.061729   60563.54  89540.23  390111.98         479652.21  2014   \n",
       "110533     0.000000    82313.7  96570.66  339653.70         436224.36  2014   \n",
       "110534     0.000000   19266.72  91302.46  326716.76         418019.22  2014   \n",
       "110535     0.000000   24165.44  91201.66  326233.44         417435.10  2014   \n",
       "\n",
       "                  Agency  Status  \n",
       "110531  b'San Francisco'       1  \n",
       "110532  b'San Francisco'       0  \n",
       "110533  b'San Francisco'       1  \n",
       "110534  b'San Francisco'       0  \n",
       "110535  b'San Francisco'       0  "
      ]
     },
     "execution_count": 30,
     "metadata": {},
     "output_type": "execute_result"
    }
   ],
   "source": [
    "df[\"OvertimePay\"] = df[\"OvertimePay\"].astype(float)\n",
    "max_op = df[\"OvertimePay\"].max()\n",
    "min_op = df[\"OvertimePay\"].min()\n",
    "df[\"OvertimePay\"] = (df[\"OvertimePay\"]-min_op)/(max_op-min_op)\n",
    "df.head(5)"
   ]
  },
  {
   "cell_type": "markdown",
   "id": "2db19a03",
   "metadata": {},
   "source": [
    "### Z-score Normalization"
   ]
  },
  {
   "cell_type": "code",
   "execution_count": 33,
   "id": "4cc7b223",
   "metadata": {
    "scrolled": true
   },
   "outputs": [
    {
     "data": {
      "text/html": [
       "<div>\n",
       "<style scoped>\n",
       "    .dataframe tbody tr th:only-of-type {\n",
       "        vertical-align: middle;\n",
       "    }\n",
       "\n",
       "    .dataframe tbody tr th {\n",
       "        vertical-align: top;\n",
       "    }\n",
       "\n",
       "    .dataframe thead th {\n",
       "        text-align: right;\n",
       "    }\n",
       "</style>\n",
       "<table border=\"1\" class=\"dataframe\">\n",
       "  <thead>\n",
       "    <tr style=\"text-align: right;\">\n",
       "      <th></th>\n",
       "      <th>Id</th>\n",
       "      <th>EmployeeName</th>\n",
       "      <th>JobTitle</th>\n",
       "      <th>BasePay</th>\n",
       "      <th>OvertimePay</th>\n",
       "      <th>OtherPay</th>\n",
       "      <th>Benefits</th>\n",
       "      <th>TotalPay</th>\n",
       "      <th>TotalPayBenefits</th>\n",
       "      <th>Year</th>\n",
       "      <th>Agency</th>\n",
       "      <th>Status</th>\n",
       "    </tr>\n",
       "  </thead>\n",
       "  <tbody>\n",
       "    <tr>\n",
       "      <th>110531</th>\n",
       "      <td>110532</td>\n",
       "      <td>David Shinn</td>\n",
       "      <td>Deputy Chief 3</td>\n",
       "      <td>0.405068</td>\n",
       "      <td>0.000000</td>\n",
       "      <td>43.683819</td>\n",
       "      <td>38780.04</td>\n",
       "      <td>471952.64</td>\n",
       "      <td>510732.68</td>\n",
       "      <td>2014</td>\n",
       "      <td>b'San Francisco'</td>\n",
       "      <td>1</td>\n",
       "    </tr>\n",
       "    <tr>\n",
       "      <th>110532</th>\n",
       "      <td>110533</td>\n",
       "      <td>Amy P Hart</td>\n",
       "      <td>Asst Med Examiner</td>\n",
       "      <td>1.000000</td>\n",
       "      <td>0.061729</td>\n",
       "      <td>7.346116</td>\n",
       "      <td>89540.23</td>\n",
       "      <td>390111.98</td>\n",
       "      <td>479652.21</td>\n",
       "      <td>2014</td>\n",
       "      <td>b'San Francisco'</td>\n",
       "      <td>0</td>\n",
       "    </tr>\n",
       "    <tr>\n",
       "      <th>110533</th>\n",
       "      <td>110534</td>\n",
       "      <td>William J Coaker Jr.</td>\n",
       "      <td>Chief Investment Officer</td>\n",
       "      <td>0.807125</td>\n",
       "      <td>0.000000</td>\n",
       "      <td>10.146404</td>\n",
       "      <td>96570.66</td>\n",
       "      <td>339653.70</td>\n",
       "      <td>436224.36</td>\n",
       "      <td>2014</td>\n",
       "      <td>b'San Francisco'</td>\n",
       "      <td>1</td>\n",
       "    </tr>\n",
       "    <tr>\n",
       "      <th>110534</th>\n",
       "      <td>110535</td>\n",
       "      <td>Gregory P Suhr</td>\n",
       "      <td>Chief of Police</td>\n",
       "      <td>0.964291</td>\n",
       "      <td>0.000000</td>\n",
       "      <td>2.029235</td>\n",
       "      <td>91302.46</td>\n",
       "      <td>326716.76</td>\n",
       "      <td>418019.22</td>\n",
       "      <td>2014</td>\n",
       "      <td>b'San Francisco'</td>\n",
       "      <td>0</td>\n",
       "    </tr>\n",
       "    <tr>\n",
       "      <th>110535</th>\n",
       "      <td>110536</td>\n",
       "      <td>Joanne M Hayes-White</td>\n",
       "      <td>Chief, Fire Department</td>\n",
       "      <td>0.947410</td>\n",
       "      <td>0.000000</td>\n",
       "      <td>2.659935</td>\n",
       "      <td>91201.66</td>\n",
       "      <td>326233.44</td>\n",
       "      <td>417435.10</td>\n",
       "      <td>2014</td>\n",
       "      <td>b'San Francisco'</td>\n",
       "      <td>0</td>\n",
       "    </tr>\n",
       "  </tbody>\n",
       "</table>\n",
       "</div>"
      ],
      "text/plain": [
       "            Id          EmployeeName                  JobTitle   BasePay  \\\n",
       "110531  110532           David Shinn            Deputy Chief 3  0.405068   \n",
       "110532  110533            Amy P Hart         Asst Med Examiner  1.000000   \n",
       "110533  110534  William J Coaker Jr.  Chief Investment Officer  0.807125   \n",
       "110534  110535        Gregory P Suhr           Chief of Police  0.964291   \n",
       "110535  110536  Joanne M Hayes-White    Chief, Fire Department  0.947410   \n",
       "\n",
       "        OvertimePay   OtherPay  Benefits   TotalPay  TotalPayBenefits  Year  \\\n",
       "110531     0.000000  43.683819  38780.04  471952.64         510732.68  2014   \n",
       "110532     0.061729   7.346116  89540.23  390111.98         479652.21  2014   \n",
       "110533     0.000000  10.146404  96570.66  339653.70         436224.36  2014   \n",
       "110534     0.000000   2.029235  91302.46  326716.76         418019.22  2014   \n",
       "110535     0.000000   2.659935  91201.66  326233.44         417435.10  2014   \n",
       "\n",
       "                  Agency  Status  \n",
       "110531  b'San Francisco'       1  \n",
       "110532  b'San Francisco'       0  \n",
       "110533  b'San Francisco'       1  \n",
       "110534  b'San Francisco'       0  \n",
       "110535  b'San Francisco'       0  "
      ]
     },
     "execution_count": 33,
     "metadata": {},
     "output_type": "execute_result"
    }
   ],
   "source": [
    "df[\"OtherPay\"] = df[\"OtherPay\"].astype(float)\n",
    "mean_op = df[\"OtherPay\"].mean()\n",
    "std_op = df[\"OtherPay\"].std()\n",
    "df[\"OtherPay\"] = (df[\"OtherPay\"] - mean_op) / std_op\n",
    "df.head(5)"
   ]
  },
  {
   "cell_type": "code",
   "execution_count": null,
   "id": "63c26115",
   "metadata": {},
   "outputs": [],
   "source": []
  }
 ],
 "metadata": {
  "kernelspec": {
   "display_name": "Python 3 (ipykernel)",
   "language": "python",
   "name": "python3"
  },
  "language_info": {
   "codemirror_mode": {
    "name": "ipython",
    "version": 3
   },
   "file_extension": ".py",
   "mimetype": "text/x-python",
   "name": "python",
   "nbconvert_exporter": "python",
   "pygments_lexer": "ipython3",
   "version": "3.9.7"
  }
 },
 "nbformat": 4,
 "nbformat_minor": 5
}
